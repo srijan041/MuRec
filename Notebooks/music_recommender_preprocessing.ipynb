{
  "nbformat": 4,
  "nbformat_minor": 0,
  "metadata": {
    "colab": {
      "provenance": [],
      "private_outputs": true
    },
    "kernelspec": {
      "name": "python3",
      "display_name": "Python 3"
    },
    "language_info": {
      "name": "python"
    },
    "gpuClass": "standard"
  },
  "cells": [
    {
      "cell_type": "markdown",
      "source": [
        "# Importing libraries"
      ],
      "metadata": {
        "id": "JzDN0HplKfKR"
      }
    },
    {
      "cell_type": "code",
      "execution_count": null,
      "metadata": {
        "id": "CVAyfjvmDS4q"
      },
      "outputs": [],
      "source": [
        "import pandas as pd\n",
        "import numpy as np\n",
        "from sklearn import preprocessing as prp\n",
        "from pandas.api.types import is_numeric_dtype\n",
        "\n",
        "from sklearn.feature_extraction.text import TfidfVectorizer\n",
        "from sklearn.metrics.pairwise import cosine_similarity\n",
        "from sklearn.preprocessing import MinMaxScaler\n",
        "import matplotlib.pyplot as plt\n",
        "import seaborn as sns"
      ]
    },
    {
      "cell_type": "code",
      "source": [
        "from IPython.core.display import display, HTML\n",
        "display(HTML(\"<style>.container { width:90% !important; }</style>\"))"
      ],
      "metadata": {
        "id": "660pFv29O5CV"
      },
      "execution_count": null,
      "outputs": []
    },
    {
      "cell_type": "code",
      "source": [
        "pd.set_option('display.max_columns', None)"
      ],
      "metadata": {
        "id": "S1vH4oD4O_e3"
      },
      "execution_count": null,
      "outputs": []
    },
    {
      "cell_type": "markdown",
      "source": [
        "# Data Pre-processing\n"
      ],
      "metadata": {
        "id": "rpEiKyitKnzx"
      }
    },
    {
      "cell_type": "code",
      "source": [
        "dataset = pd.read_csv('/content/drive/MyDrive/Music_Recommender/Kaggle/Spotify_Tracks_Dataset/dataset.csv')"
      ],
      "metadata": {
        "id": "ck2Utr4HFJOn"
      },
      "execution_count": null,
      "outputs": []
    },
    {
      "cell_type": "code",
      "source": [
        "dataset.head()"
      ],
      "metadata": {
        "id": "Rv3EEt0pHzyH"
      },
      "execution_count": null,
      "outputs": []
    },
    {
      "cell_type": "code",
      "source": [
        "dataset.columns.values"
      ],
      "metadata": {
        "id": "qk62uRuVYXmY"
      },
      "execution_count": null,
      "outputs": []
    },
    {
      "cell_type": "code",
      "source": [
        "dataset.info()\n"
      ],
      "metadata": {
        "id": "faB1RmLSFYfs"
      },
      "execution_count": null,
      "outputs": []
    },
    {
      "cell_type": "code",
      "source": [
        "dataset.describe()"
      ],
      "metadata": {
        "id": "CZ1vQfqbdKCL"
      },
      "execution_count": null,
      "outputs": []
    },
    {
      "cell_type": "markdown",
      "source": [
        " **Usefull Features**\n",
        "\n",
        "\n",
        "---\n",
        "\n",
        "\n",
        "*   track_id\n",
        "*   artists\n",
        "*   popularity\n",
        "*   danceability\n",
        "*   energy\n",
        "*   speechiness\n",
        "*   acousticness\n",
        "*   liveness\n",
        "*   valence\n",
        "*   track_genre\n",
        "*   tempo\n",
        "*   key\n",
        "*   mode\n",
        "\n",
        "\n",
        "\n",
        "\n",
        "\n",
        "\n",
        "\n"
      ],
      "metadata": {
        "id": "hYXeSAAaH9vj"
      }
    },
    {
      "cell_type": "code",
      "source": [
        "dataset = dataset[['track_id', 'artists', 'track_genre', 'mode' , 'key' ,'popularity' ,'danceability', 'energy', 'speechiness', 'acousticness', 'liveness', 'valence', 'tempo' ]]\n",
        "dataset.head()"
      ],
      "metadata": {
        "id": "MH6b63SnFay1"
      },
      "execution_count": null,
      "outputs": []
    },
    {
      "cell_type": "code",
      "source": [
        "\n",
        "# print(len(pd.unique(dataset['track_id'])))\n",
        "\n",
        "\n",
        "print(len(pd.unique(dataset['track_genre'])))\n",
        "print(dataset['track_genre'].unique())\n"
      ],
      "metadata": {
        "id": "NK9VP4evJdGZ"
      },
      "execution_count": null,
      "outputs": []
    },
    {
      "cell_type": "code",
      "source": [
        "dataset.drop_duplicates(subset=['track_id'], inplace = True)\n"
      ],
      "metadata": {
        "id": "82Ake2jDMdGb"
      },
      "execution_count": null,
      "outputs": []
    },
    {
      "cell_type": "code",
      "source": [
        "dataset.info()"
      ],
      "metadata": {
        "id": "QDlwCitfM0mZ"
      },
      "execution_count": null,
      "outputs": []
    },
    {
      "cell_type": "code",
      "source": [
        "dataset.dropna(inplace = True)"
      ],
      "metadata": {
        "id": "ctX_dVPfL0K8"
      },
      "execution_count": null,
      "outputs": []
    },
    {
      "cell_type": "code",
      "source": [
        "dataset.reset_index(drop = True, inplace = True)\n"
      ],
      "metadata": {
        "id": "DFufQthIFYxS"
      },
      "execution_count": null,
      "outputs": []
    },
    {
      "cell_type": "markdown",
      "source": [
        "## Generate 'artists' list"
      ],
      "metadata": {
        "id": "h3_bcikqd1Ua"
      }
    },
    {
      "cell_type": "code",
      "source": [
        "def generate_list(col_name):\n",
        "  return list(dataset[col_name].apply(lambda x : [i.replace(\"-\", \"\").replace(\" \", \"\").replace(\".\",\"\") for i in x]))"
      ],
      "metadata": {
        "id": "3PrWkXnOCsVG"
      },
      "execution_count": null,
      "outputs": []
    },
    {
      "cell_type": "code",
      "source": [
        "dataset['artists'] = dataset['artists'].apply(lambda x:x.lower().split(';'))\n",
        "  "
      ],
      "metadata": {
        "id": "IpYIdrz4d7uE"
      },
      "execution_count": null,
      "outputs": []
    },
    {
      "cell_type": "code",
      "source": [
        "dataset['artists'] = generate_list('artists')"
      ],
      "metadata": {
        "id": "7JMtEpjmolcp"
      },
      "execution_count": null,
      "outputs": []
    },
    {
      "cell_type": "markdown",
      "source": [
        "## Generate 'track_genres' list"
      ],
      "metadata": {
        "id": "bnO9eNKgob6E"
      }
    },
    {
      "cell_type": "code",
      "source": [
        "dataset['track_genre'] = dataset['track_genre'].apply(lambda x: x.split())"
      ],
      "metadata": {
        "id": "wVuFtEE6ohgT"
      },
      "execution_count": null,
      "outputs": []
    },
    {
      "cell_type": "code",
      "source": [
        "dataset['track_genre'] = generate_list('track_genre')"
      ],
      "metadata": {
        "id": "5Ywu5z6esqAo"
      },
      "execution_count": null,
      "outputs": []
    },
    {
      "cell_type": "markdown",
      "source": [
        "# One Hot Encoding \n"
      ],
      "metadata": {
        "id": "cralXd775L8K"
      }
    },
    {
      "cell_type": "code",
      "source": [
        "#simple function to create OHE features\n",
        "#this gets passed later on\n",
        "def ohe_prep(df, column, new_name): \n",
        "    \"\"\" \n",
        "    Create One Hot Encoded features of a specific column\n",
        "\n",
        "    Parameters: \n",
        "        df (pandas dataframe): Spotify Dataframe\n",
        "        column (str): Column to be processed\n",
        "        new_name (str): new column name to be used\n",
        "        \n",
        "    Returns: \n",
        "        tf_df: One hot encoded features \n",
        "    \"\"\"\n",
        "    \n",
        "    tf_df = pd.get_dummies(df[column])\n",
        "    feature_names = tf_df.columns\n",
        "    tf_df.columns = [new_name + \"|\" + str(i) for i in feature_names]\n",
        "    tf_df.reset_index(drop = True, inplace = True)    \n",
        "    return tf_df"
      ],
      "metadata": {
        "id": "oRa8UBMy5Rpc"
      },
      "execution_count": null,
      "outputs": []
    },
    {
      "cell_type": "markdown",
      "source": [
        "# Feature generation"
      ],
      "metadata": {
        "id": "yAQW6asSksZg"
      }
    },
    {
      "cell_type": "code",
      "source": [
        "\n",
        "def create_feature_set(df, float_cols):\n",
        "    '''\n",
        "    Process spotify df to create a final set of features that will be used to generate recommendations\n",
        "    ---\n",
        "    Input: \n",
        "    df (pandas dataframe): Spotify Dataframe\n",
        "    float_cols (list(str)): List of float columns that will be scaled\n",
        "            \n",
        "    Output: \n",
        "    final (pandas dataframe): Final set of features \n",
        "    '''\n",
        "    \n",
        "    # Tfidf genre lists\n",
        "    tfidf = TfidfVectorizer()\n",
        "    tfidf_matrix =  tfidf.fit_transform(dataset['track_genre'].apply(lambda x: \" \".join(x)))\n",
        "    genre_df = pd.DataFrame(tfidf_matrix.toarray())\n",
        "    genre_df.columns = ['genre' + \"|\" + i for i in tfidf.get_feature_names_out()]\n",
        "    # genre_df.drop(columns='genre|unknown') # drop unknown genre\n",
        "    genre_df.reset_index(drop = True, inplace=True)\n",
        "    \n",
        "    #Tfidf artist lists\n",
        "    # tfidf = TfidfVectorizer()\n",
        "    # tfidf_artists_matrix = tfidf.fit_transform(dataset['artists'].apply(lambda x: \" \".join(x)))\n",
        "    # artists_df = pd.DataFrame(tfidf_artists_matrix.toarray())\n",
        "    # artists_df.columns = ['artist' + \"|\" + i for i in tfidf.get_feature_names_out()]\n",
        "    # artists_df.reset_index(drop = True, inplace=True)\n",
        "\n",
        "    # One-hot Encoding\n",
        "    key_ohe = ohe_prep(dataset, 'key','key') * 0.5\n",
        "    mode_ohe = ohe_prep(dataset, 'mode','mode') * 0.5\n",
        "\n",
        "    # Normalization\n",
        "    # Scale popularity columns\n",
        "    pop = dataset[['popularity']].reset_index(drop = True)\n",
        "    scaler = MinMaxScaler()\n",
        "    pop_scaled = pd.DataFrame(scaler.fit_transform(pop), columns = pop.columns) * 0.2 \n",
        "\n",
        "    # Scale audio columns\n",
        "    floats = dataset[float_cols].reset_index(drop = True)\n",
        "    scaler = MinMaxScaler()\n",
        "    floats_scaled = pd.DataFrame(scaler.fit_transform(floats), columns = floats.columns) * 0.2\n",
        "\n",
        "    # Concanenate all features\n",
        "    final = pd.concat([genre_df,floats_scaled, pop_scaled, key_ohe, mode_ohe], axis = 1)\n",
        "    \n",
        "    # Add song id\n",
        "    final['track_id']=dataset['track_id'].values\n",
        "    # final['artists'] = dataset['artists'].values\n",
        "    \n",
        "    return final"
      ],
      "metadata": {
        "id": "-AXungD8FaTF"
      },
      "execution_count": null,
      "outputs": []
    },
    {
      "cell_type": "code",
      "source": [
        "float_cols = dataset.dtypes[dataset.dtypes == 'float64'].index.values\n"
      ],
      "metadata": {
        "id": "r7laf2LaGJnm"
      },
      "execution_count": null,
      "outputs": []
    },
    {
      "cell_type": "code",
      "source": [
        "# Save the data\n",
        "# dataset.to_csv(\"/content/drive/MyDrive/Music_Recommender/Kaggle/Spotify_Tracks_Dataset/useful_feature.csv\", index = False)"
      ],
      "metadata": {
        "id": "ndIRnIL5GGWp"
      },
      "execution_count": null,
      "outputs": []
    },
    {
      "cell_type": "code",
      "source": [
        "#generate new csv with normalised features\n",
        "complete_feature_set = create_feature_set(dataset, float_cols=float_cols)\n",
        "complete_feature_set"
      ],
      "metadata": {
        "id": "a7pChK8MIuwv"
      },
      "execution_count": null,
      "outputs": []
    },
    {
      "cell_type": "code",
      "source": [
        "# complete_feature_set.to_csv(\"/content/drive/MyDrive/Music_Recommender/Kaggle/Spotify_Tracks_Dataset/complete_feature.csv\", index = False)\n",
        "complete_feature_set.head()"
      ],
      "metadata": {
        "id": "hh7lmeBoNz1h"
      },
      "execution_count": null,
      "outputs": []
    },
    {
      "cell_type": "code",
      "source": [],
      "metadata": {
        "id": "o31Awk51Gguw"
      },
      "execution_count": null,
      "outputs": []
    }
  ]
}